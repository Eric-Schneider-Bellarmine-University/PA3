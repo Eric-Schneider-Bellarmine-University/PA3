{
 "cells": [
  {
   "cell_type": "markdown",
   "id": "c3fefae4",
   "metadata": {},
   "source": [
    "# Programming Assignment 3\n",
    "### Eric Schneider\n",
    "##### Version 1\n",
    "##### CS-150 Fall 2021 Semester"
   ]
  },
  {
   "cell_type": "markdown",
   "id": "46346777",
   "metadata": {},
   "source": [
    "### A. Write a Python program will calculate the area and perimeter of a triangle using two different functions named calcArea() and calcPerimeter(). Your program should prompt the user for the length of three sides of the triangle. Each function should take the lengths of the sides as arguments and return the output of their respective calculations. As an added feature, set the default values of your parameters to 1 so if you call either function without parameters, it will still produce output) (I recommend using Heron’s Method for calculating the area of a triangle.)"
   ]
  },
  {
   "cell_type": "code",
   "execution_count": 11,
   "id": "c304a914",
   "metadata": {},
   "outputs": [
    {
     "name": "stdout",
     "output_type": "stream",
     "text": [
      "Enter the length of one of the sides of the triangle. 3\n",
      "Enter the length of one of the sides of the triangle. 4\n",
      "Enter the length of one of the sides of the triangle. 5\n",
      "the total perimeter of the triangle is 12 units.\n",
      "the total area of the triangle is 6.0 units squared.\n",
      "3\n",
      "0.4330127018922193\n"
     ]
    }
   ],
   "source": [
    "def mainframe():\n",
    "    lengths=get_inputs()\n",
    "    print(f'the total perimeter of the triangle is {calc_perimeter(lengths)} units.')\n",
    "    print(f'the total area of the triangle is {calc_area(lengths)} units squared.')\n",
    "\n",
    "def get_inputs():\n",
    "    lengths=[]\n",
    "    for inputs in range(3):\n",
    "        lengths.append(int(input('Enter the length of one of the sides of the triangle. ')))\n",
    "        \n",
    "    return lengths\n",
    "\n",
    "def calc_perimeter(lengths=[1,1,1]):\n",
    "    return sum(lengths)\n",
    "\n",
    "def calc_area(lengths=[1,1,1]):\n",
    "    s=sum(lengths)/2\n",
    "    return (s*(s-lengths[0])*(s-lengths[1])*(s-lengths[2]))**(1/2)\n",
    "    \n",
    "mainframe()\n",
    "print(calc_perimeter())\n",
    "print(calc_area())"
   ]
  },
  {
   "cell_type": "markdown",
   "id": "91d601bd",
   "metadata": {},
   "source": [
    "### B. Write a Python program to play “Guess the Number”. Your program should generate a random number between 1 and 1000 and then prompt the user for a guess. Possible responses to the guess should be ‘Too high! Guess again’, ‘Too low! Guess again’, and ‘Correct!’. \n",
    "### The program should continue to prompt for input from the user until they supply the correct answer. The part of the program that evaluates the user’s guess should be in a function named evaluateGuess() that takes the guess and the randomly generated number as parameters. "
   ]
  },
  {
   "cell_type": "code",
   "execution_count": 18,
   "id": "75f688b1",
   "metadata": {},
   "outputs": [
    {
     "name": "stdout",
     "output_type": "stream",
     "text": [
      "Guess the number the computer just chose. It is between 1 and 1000. 500\n",
      "Too Low\n",
      "Guess the number the computer just chose. It is between 1 and 1000. 700\n",
      "Too Low\n",
      "Guess the number the computer just chose. It is between 1 and 1000. 900\n",
      "Too Low\n",
      "Guess the number the computer just chose. It is between 1 and 1000. 950\n",
      "Too Low\n",
      "Guess the number the computer just chose. It is between 1 and 1000. 980\n",
      "Too Low\n",
      "Guess the number the computer just chose. It is between 1 and 1000. 990\n",
      "Too High\n",
      "Guess the number the computer just chose. It is between 1 and 1000. 985\n",
      "Too Low\n",
      "Guess the number the computer just chose. It is between 1 and 1000. 988\n",
      "Too High\n",
      "Guess the number the computer just chose. It is between 1 and 1000. 987\n"
     ]
    },
    {
     "data": {
      "text/plain": [
       "'You win.'"
      ]
     },
     "execution_count": 18,
     "metadata": {},
     "output_type": "execute_result"
    }
   ],
   "source": [
    "from random import randint \n",
    "\n",
    "def mainframe():\n",
    "    target=get_target()\n",
    "    while True:\n",
    "        guess=get_guess()\n",
    "        if evaluate_guess(target,guess):\n",
    "            return 'You win.'\n",
    "        else:\n",
    "            print(higher_or_lower(target,guess))\n",
    "\n",
    "def get_target():\n",
    "    return randint(1,1000)\n",
    "\n",
    "def get_guess():\n",
    "    return int(input('Guess the number the computer just chose. It is between 1 and 1000. '))\n",
    "\n",
    "def evaluate_guess(target,guess):\n",
    "    return target==guess\n",
    "\n",
    "def higher_or_lower(target, guess):\n",
    "    return 'Too High' if guess>target else'Too Low'\n",
    "    \n",
    "mainframe()"
   ]
  },
  {
   "cell_type": "markdown",
   "id": "19bc0066",
   "metadata": {},
   "source": [
    "### C. Write a Python program to calculate the mean temperature over a set of Fahrenheit temperature values. Your program should calculate the mean in a function called meanTemp()and then print message that indicates the number of days your mean represents and the mean (see below). Your function should be flexible so that you can pass any number of temperatures to it. You do not need to get input from the user; simply include the temperatures in the function parameter list. "
   ]
  },
  {
   "cell_type": "code",
   "execution_count": 24,
   "id": "e231f0a5",
   "metadata": {},
   "outputs": [
    {
     "name": "stdout",
     "output_type": "stream",
     "text": [
      "The mean temperature over the past 14 days is 36.357142857142854 degrees.\n",
      "The mean temperature over the past 10 days is 99.1 degrees.\n"
     ]
    }
   ],
   "source": [
    "def mean_temp(*temp):\n",
    "    print(f'The mean temperature over the past {len(temp)} days is {sum(temp)/len(temp)} degrees.')\n",
    "    \n",
    "mean_temp(40,50,40,30,20,12,19,35,47,60,47,53,36,20)\n",
    "mean_temp(103,102,100,95,96,93,90,102,110,100)"
   ]
  },
  {
   "cell_type": "code",
   "execution_count": null,
   "id": "6d8c0b38",
   "metadata": {},
   "outputs": [],
   "source": []
  }
 ],
 "metadata": {
  "kernelspec": {
   "display_name": "Python 3",
   "language": "python",
   "name": "python3"
  },
  "language_info": {
   "codemirror_mode": {
    "name": "ipython",
    "version": 3
   },
   "file_extension": ".py",
   "mimetype": "text/x-python",
   "name": "python",
   "nbconvert_exporter": "python",
   "pygments_lexer": "ipython3",
   "version": "3.8.8"
  }
 },
 "nbformat": 4,
 "nbformat_minor": 5
}
